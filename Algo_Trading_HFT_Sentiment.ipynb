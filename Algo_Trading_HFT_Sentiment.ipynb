{
  "cells": [
    {
      "cell_type": "markdown",
      "metadata": {
        "id": "4sf24u87FYwa"
      },
      "source": [
        "### AI-Powered Strategy"
      ]
    },
    {
      "cell_type": "markdown",
      "metadata": {
        "id": "h5i-K9UhFYwa"
      },
      "source": [
        "## Oanda API"
      ]
    },
    {
      "cell_type": "code",
      "execution_count": null,
      "metadata": {
        "colab": {
          "base_uri": "https://localhost:8080/"
        },
        "id": "U_0lKa44FYwa",
        "outputId": "419d0e5d-a9c2-4f30-ad62-6af2de541f9c"
      },
      "outputs": [
        {
          "name": "stdout",
          "output_type": "stream",
          "text": [
            "Looking in indexes: https://pypi.org/simple, https://us-python.pkg.dev/colab-wheels/public/simple/\n",
            "Collecting git+https://github.com/yhilpisch/tpqoa.git\n",
            "  Cloning https://github.com/yhilpisch/tpqoa.git to /tmp/pip-req-build-_1j1ylc1\n",
            "  Running command git clone --filter=blob:none --quiet https://github.com/yhilpisch/tpqoa.git /tmp/pip-req-build-_1j1ylc1\n",
            "  Resolved https://github.com/yhilpisch/tpqoa.git to commit f47a1ffddd2b2684c7e1569df6210b98dbe4e701\n",
            "  Preparing metadata (setup.py) ... \u001b[?25l\u001b[?25hdone\n",
            "Collecting v20==3.0.25.0 (from tpqoa==0.0.55)\n",
            "  Downloading v20-3.0.25.0.tar.gz (75 kB)\n",
            "\u001b[2K     \u001b[90m━━━━━━━━━━━━━━━━━━━━━━━━━━━━━━━━━━━━━━━━\u001b[0m \u001b[32m75.1/75.1 kB\u001b[0m \u001b[31m2.1 MB/s\u001b[0m eta \u001b[36m0:00:00\u001b[0m\n",
            "\u001b[?25h  Preparing metadata (setup.py) ... \u001b[?25l\u001b[?25hdone\n",
            "Requirement already satisfied: pyyaml in /usr/local/lib/python3.10/dist-packages (from tpqoa==0.0.55) (6.0)\n",
            "Requirement already satisfied: requests in /usr/local/lib/python3.10/dist-packages (from v20==3.0.25.0->tpqoa==0.0.55) (2.27.1)\n",
            "Collecting ujson (from v20==3.0.25.0->tpqoa==0.0.55)\n",
            "  Downloading ujson-5.7.0-cp310-cp310-manylinux_2_17_x86_64.manylinux2014_x86_64.whl (52 kB)\n",
            "\u001b[2K     \u001b[90m━━━━━━━━━━━━━━━━━━━━━━━━━━━━━━━━━━━━━━━━\u001b[0m \u001b[32m52.8/52.8 kB\u001b[0m \u001b[31m5.1 MB/s\u001b[0m eta \u001b[36m0:00:00\u001b[0m\n",
            "\u001b[?25hRequirement already satisfied: urllib3<1.27,>=1.21.1 in /usr/local/lib/python3.10/dist-packages (from requests->v20==3.0.25.0->tpqoa==0.0.55) (1.26.15)\n",
            "Requirement already satisfied: certifi>=2017.4.17 in /usr/local/lib/python3.10/dist-packages (from requests->v20==3.0.25.0->tpqoa==0.0.55) (2022.12.7)\n",
            "Requirement already satisfied: charset-normalizer~=2.0.0 in /usr/local/lib/python3.10/dist-packages (from requests->v20==3.0.25.0->tpqoa==0.0.55) (2.0.12)\n",
            "Requirement already satisfied: idna<4,>=2.5 in /usr/local/lib/python3.10/dist-packages (from requests->v20==3.0.25.0->tpqoa==0.0.55) (3.4)\n",
            "Building wheels for collected packages: tpqoa, v20\n",
            "  Building wheel for tpqoa (setup.py) ... \u001b[?25l\u001b[?25hdone\n",
            "  Created wheel for tpqoa: filename=tpqoa-0.0.55-py3-none-any.whl size=10908 sha256=aa073e64e0af6205e21d481c642a9535a28665a302afac7b2ebe72587788b29b\n",
            "  Stored in directory: /tmp/pip-ephem-wheel-cache-pbs4n_ok/wheels/25/02/45/e375e857935fa5ecce662529ffe8a6c80d3857356999406a13\n",
            "  Building wheel for v20 (setup.py) ... \u001b[?25l\u001b[?25hdone\n",
            "  Created wheel for v20: filename=v20-3.0.25.0-py3-none-any.whl size=85779 sha256=3db5cc70a69f8d90cee42cd1ac0c76dddb11b1b4e672e9a2bc3163c1ba945864\n",
            "  Stored in directory: /root/.cache/pip/wheels/b0/29/eb/a94c164f6f87baab5373759f42875082750a38f7efbee5de4f\n",
            "Successfully built tpqoa v20\n",
            "Installing collected packages: ujson, v20, tpqoa\n",
            "Successfully installed tpqoa-0.0.55 ujson-5.7.0 v20-3.0.25.0\n",
            "Looking in indexes: https://pypi.org/simple, https://us-python.pkg.dev/colab-wheels/public/simple/\n",
            "Collecting ta\n",
            "  Downloading ta-0.10.2.tar.gz (25 kB)\n",
            "  Preparing metadata (setup.py) ... \u001b[?25l\u001b[?25hdone\n",
            "Requirement already satisfied: numpy in /usr/local/lib/python3.10/dist-packages (from ta) (1.22.4)\n",
            "Requirement already satisfied: pandas in /usr/local/lib/python3.10/dist-packages (from ta) (1.5.3)\n",
            "Requirement already satisfied: python-dateutil>=2.8.1 in /usr/local/lib/python3.10/dist-packages (from pandas->ta) (2.8.2)\n",
            "Requirement already satisfied: pytz>=2020.1 in /usr/local/lib/python3.10/dist-packages (from pandas->ta) (2022.7.1)\n",
            "Requirement already satisfied: six>=1.5 in /usr/local/lib/python3.10/dist-packages (from python-dateutil>=2.8.1->pandas->ta) (1.16.0)\n",
            "Building wheels for collected packages: ta\n",
            "  Building wheel for ta (setup.py) ... \u001b[?25l\u001b[?25hdone\n",
            "  Created wheel for ta: filename=ta-0.10.2-py3-none-any.whl size=29088 sha256=be39a4a24fd888efa90191cb9266801214e0d2ebc97f67957e974b8e41faee03\n",
            "  Stored in directory: /root/.cache/pip/wheels/47/51/06/380dc516ea78621870b93ff65527c251afdfdc5fa9d7f4d248\n",
            "Successfully built ta\n",
            "Installing collected packages: ta\n",
            "Successfully installed ta-0.10.2\n",
            "Looking in indexes: https://pypi.org/simple, https://us-python.pkg.dev/colab-wheels/public/simple/\n",
            "Collecting vaderSentiment\n",
            "  Downloading vaderSentiment-3.3.2-py2.py3-none-any.whl (125 kB)\n",
            "\u001b[2K     \u001b[90m━━━━━━━━━━━━━━━━━━━━━━━━━━━━━━━━━━━━━━━\u001b[0m \u001b[32m126.0/126.0 kB\u001b[0m \u001b[31m3.5 MB/s\u001b[0m eta \u001b[36m0:00:00\u001b[0m\n",
            "\u001b[?25hRequirement already satisfied: requests in /usr/local/lib/python3.10/dist-packages (from vaderSentiment) (2.27.1)\n",
            "Requirement already satisfied: urllib3<1.27,>=1.21.1 in /usr/local/lib/python3.10/dist-packages (from requests->vaderSentiment) (1.26.15)\n",
            "Requirement already satisfied: certifi>=2017.4.17 in /usr/local/lib/python3.10/dist-packages (from requests->vaderSentiment) (2022.12.7)\n",
            "Requirement already satisfied: charset-normalizer~=2.0.0 in /usr/local/lib/python3.10/dist-packages (from requests->vaderSentiment) (2.0.12)\n",
            "Requirement already satisfied: idna<4,>=2.5 in /usr/local/lib/python3.10/dist-packages (from requests->vaderSentiment) (3.4)\n",
            "Installing collected packages: vaderSentiment\n",
            "Successfully installed vaderSentiment-3.3.2\n"
          ]
        }
      ],
      "source": [
        "!pip install --upgrade git+https://github.com/yhilpisch/tpqoa.git\n",
        "import tpqoa\n",
        "import numpy as np\n",
        "import pandas as pd\n",
        "!pip install ta\n",
        "import ta\n",
        "import pdb;\n",
        "\n",
        "!pip install vaderSentiment\n",
        "from vaderSentiment.vaderSentiment import SentimentIntensityAnalyzer\n",
        "import requests\n",
        "from bs4 import BeautifulSoup"
      ]
    },
    {
      "cell_type": "code",
      "execution_count": null,
      "metadata": {
        "id": "DCTKdLEoFYwb"
      },
      "outputs": [],
      "source": []
    },
    {
      "cell_type": "code",
      "execution_count": null,
      "metadata": {
        "id": "D5GOP713FYwc"
      },
      "outputs": [],
      "source": [
        "import warnings\n",
        "warnings.simplefilter('ignore')"
      ]
    },
    {
      "cell_type": "code",
      "execution_count": null,
      "metadata": {
        "id": "SKdy0GzVFYwc"
      },
      "outputs": [],
      "source": [
        "oanda = tpqoa.tpqoa('oanda_.cfg')"
      ]
    },
    {
      "cell_type": "markdown",
      "metadata": {
        "id": "crd8kKoDFYwc"
      },
      "source": [
        "## The Data"
      ]
    },
    {
      "cell_type": "code",
      "execution_count": null,
      "metadata": {
        "colab": {
          "base_uri": "https://localhost:8080/"
        },
        "id": "bp1F-CWUFYwc",
        "outputId": "41d4399d-ab36-4301-96a6-5bcde183e9ef"
      },
      "outputs": [
        {
          "name": "stdout",
          "output_type": "stream",
          "text": [
            "<class 'pandas.core.frame.DataFrame'>\n",
            "DatetimeIndex: 13994 entries, 2023-05-09 00:00:00 to 2023-05-10 00:00:00\n",
            "Data columns (total 6 columns):\n",
            " #   Column    Non-Null Count  Dtype  \n",
            "---  ------    --------------  -----  \n",
            " 0   o         13994 non-null  float64\n",
            " 1   h         13994 non-null  float64\n",
            " 2   l         13994 non-null  float64\n",
            " 3   c         13994 non-null  float64\n",
            " 4   volume    13994 non-null  int64  \n",
            " 5   complete  13994 non-null  bool   \n",
            "dtypes: bool(1), float64(4), int64(1)\n",
            "memory usage: 669.6 KB\n",
            "CPU times: user 700 ms, sys: 10.6 ms, total: 710 ms\n",
            "Wall time: 1.7 s\n"
          ]
        }
      ],
      "source": [
        "%%time\n",
        "data = oanda.get_history(\n",
        "    instrument='EUR_USD',\n",
        "    start='2023-05-9',\n",
        "    end='2023-05-10',\n",
        "    granularity='S5',\n",
        "    price='M'\n",
        ")\n",
        "data.info()"
      ]
    },
    {
      "cell_type": "code",
      "execution_count": null,
      "metadata": {
        "id": "zVHm-MBsFYwd"
      },
      "outputs": [],
      "source": [
        "data['r'] = np.log(data['c'] / data['c'].shift(-1))"
      ]
    },
    {
      "cell_type": "code",
      "execution_count": null,
      "metadata": {
        "id": "nCJm1kWiFYwd"
      },
      "outputs": [],
      "source": [
        "data['d'] = np.sign(data['r'])"
      ]
    },
    {
      "cell_type": "markdown",
      "metadata": {
        "id": "_5ZzxIzeFYwd"
      },
      "source": [
        "## The Strategy"
      ]
    },
    {
      "cell_type": "code",
      "execution_count": null,
      "metadata": {
        "id": "jXggymCTFYwd"
      },
      "outputs": [],
      "source": [
        "lags = 3"
      ]
    },
    {
      "cell_type": "code",
      "execution_count": null,
      "metadata": {
        "id": "APQhLOiaFYwe"
      },
      "outputs": [],
      "source": [
        "cols = list()\n",
        "for lag in range(1, lags + 1):\n",
        "    col = f'lag_{lag}'\n",
        "    data[col] = data['r'].shift(lag)\n",
        "    cols.append(col)"
      ]
    },
    {
      "cell_type": "code",
      "execution_count": null,
      "metadata": {
        "colab": {
          "base_uri": "https://localhost:8080/",
          "height": 475
        },
        "id": "rseIe-DwFYwe",
        "outputId": "652fb6ed-1b73-4713-ea81-b3bf76973ef2"
      },
      "outputs": [
        {
          "data": {
            "text/html": [
              "\n",
              "  <div id=\"df-62bdd342-e0ac-463c-acf7-3be5c19ecf94\">\n",
              "    <div class=\"colab-df-container\">\n",
              "      <div>\n",
              "<style scoped>\n",
              "    .dataframe tbody tr th:only-of-type {\n",
              "        vertical-align: middle;\n",
              "    }\n",
              "\n",
              "    .dataframe tbody tr th {\n",
              "        vertical-align: top;\n",
              "    }\n",
              "\n",
              "    .dataframe thead th {\n",
              "        text-align: right;\n",
              "    }\n",
              "</style>\n",
              "<table border=\"1\" class=\"dataframe\">\n",
              "  <thead>\n",
              "    <tr style=\"text-align: right;\">\n",
              "      <th></th>\n",
              "      <th>o</th>\n",
              "      <th>h</th>\n",
              "      <th>l</th>\n",
              "      <th>c</th>\n",
              "      <th>volume</th>\n",
              "      <th>complete</th>\n",
              "      <th>r</th>\n",
              "      <th>d</th>\n",
              "      <th>lag_1</th>\n",
              "      <th>lag_2</th>\n",
              "      <th>lag_3</th>\n",
              "    </tr>\n",
              "    <tr>\n",
              "      <th>time</th>\n",
              "      <th></th>\n",
              "      <th></th>\n",
              "      <th></th>\n",
              "      <th></th>\n",
              "      <th></th>\n",
              "      <th></th>\n",
              "      <th></th>\n",
              "      <th></th>\n",
              "      <th></th>\n",
              "      <th></th>\n",
              "      <th></th>\n",
              "    </tr>\n",
              "  </thead>\n",
              "  <tbody>\n",
              "    <tr>\n",
              "      <th>2023-05-09 00:00:00</th>\n",
              "      <td>1.09966</td>\n",
              "      <td>1.09966</td>\n",
              "      <td>1.09962</td>\n",
              "      <td>1.09964</td>\n",
              "      <td>9</td>\n",
              "      <td>True</td>\n",
              "      <td>-0.000064</td>\n",
              "      <td>-1.0</td>\n",
              "      <td>NaN</td>\n",
              "      <td>NaN</td>\n",
              "      <td>NaN</td>\n",
              "    </tr>\n",
              "    <tr>\n",
              "      <th>2023-05-09 00:00:05</th>\n",
              "      <td>1.09966</td>\n",
              "      <td>1.09971</td>\n",
              "      <td>1.09966</td>\n",
              "      <td>1.09971</td>\n",
              "      <td>5</td>\n",
              "      <td>True</td>\n",
              "      <td>0.000064</td>\n",
              "      <td>1.0</td>\n",
              "      <td>-0.000064</td>\n",
              "      <td>NaN</td>\n",
              "      <td>NaN</td>\n",
              "    </tr>\n",
              "    <tr>\n",
              "      <th>2023-05-09 00:00:10</th>\n",
              "      <td>1.09969</td>\n",
              "      <td>1.09971</td>\n",
              "      <td>1.09964</td>\n",
              "      <td>1.09964</td>\n",
              "      <td>7</td>\n",
              "      <td>True</td>\n",
              "      <td>-0.000055</td>\n",
              "      <td>-1.0</td>\n",
              "      <td>0.000064</td>\n",
              "      <td>-0.000064</td>\n",
              "      <td>NaN</td>\n",
              "    </tr>\n",
              "    <tr>\n",
              "      <th>2023-05-09 00:00:15</th>\n",
              "      <td>1.09968</td>\n",
              "      <td>1.09970</td>\n",
              "      <td>1.09968</td>\n",
              "      <td>1.09970</td>\n",
              "      <td>4</td>\n",
              "      <td>True</td>\n",
              "      <td>0.000000</td>\n",
              "      <td>0.0</td>\n",
              "      <td>-0.000055</td>\n",
              "      <td>0.000064</td>\n",
              "      <td>-0.000064</td>\n",
              "    </tr>\n",
              "    <tr>\n",
              "      <th>2023-05-09 00:00:20</th>\n",
              "      <td>1.09970</td>\n",
              "      <td>1.09970</td>\n",
              "      <td>1.09970</td>\n",
              "      <td>1.09970</td>\n",
              "      <td>6</td>\n",
              "      <td>True</td>\n",
              "      <td>-0.000018</td>\n",
              "      <td>-1.0</td>\n",
              "      <td>0.000000</td>\n",
              "      <td>-0.000055</td>\n",
              "      <td>0.000064</td>\n",
              "    </tr>\n",
              "  </tbody>\n",
              "</table>\n",
              "</div>\n",
              "      <button class=\"colab-df-convert\" onclick=\"convertToInteractive('df-62bdd342-e0ac-463c-acf7-3be5c19ecf94')\"\n",
              "              title=\"Convert this dataframe to an interactive table.\"\n",
              "              style=\"display:none;\">\n",
              "        \n",
              "  <svg xmlns=\"http://www.w3.org/2000/svg\" height=\"24px\"viewBox=\"0 0 24 24\"\n",
              "       width=\"24px\">\n",
              "    <path d=\"M0 0h24v24H0V0z\" fill=\"none\"/>\n",
              "    <path d=\"M18.56 5.44l.94 2.06.94-2.06 2.06-.94-2.06-.94-.94-2.06-.94 2.06-2.06.94zm-11 1L8.5 8.5l.94-2.06 2.06-.94-2.06-.94L8.5 2.5l-.94 2.06-2.06.94zm10 10l.94 2.06.94-2.06 2.06-.94-2.06-.94-.94-2.06-.94 2.06-2.06.94z\"/><path d=\"M17.41 7.96l-1.37-1.37c-.4-.4-.92-.59-1.43-.59-.52 0-1.04.2-1.43.59L10.3 9.45l-7.72 7.72c-.78.78-.78 2.05 0 2.83L4 21.41c.39.39.9.59 1.41.59.51 0 1.02-.2 1.41-.59l7.78-7.78 2.81-2.81c.8-.78.8-2.07 0-2.86zM5.41 20L4 18.59l7.72-7.72 1.47 1.35L5.41 20z\"/>\n",
              "  </svg>\n",
              "      </button>\n",
              "      \n",
              "  <style>\n",
              "    .colab-df-container {\n",
              "      display:flex;\n",
              "      flex-wrap:wrap;\n",
              "      gap: 12px;\n",
              "    }\n",
              "\n",
              "    .colab-df-convert {\n",
              "      background-color: #E8F0FE;\n",
              "      border: none;\n",
              "      border-radius: 50%;\n",
              "      cursor: pointer;\n",
              "      display: none;\n",
              "      fill: #1967D2;\n",
              "      height: 32px;\n",
              "      padding: 0 0 0 0;\n",
              "      width: 32px;\n",
              "    }\n",
              "\n",
              "    .colab-df-convert:hover {\n",
              "      background-color: #E2EBFA;\n",
              "      box-shadow: 0px 1px 2px rgba(60, 64, 67, 0.3), 0px 1px 3px 1px rgba(60, 64, 67, 0.15);\n",
              "      fill: #174EA6;\n",
              "    }\n",
              "\n",
              "    [theme=dark] .colab-df-convert {\n",
              "      background-color: #3B4455;\n",
              "      fill: #D2E3FC;\n",
              "    }\n",
              "\n",
              "    [theme=dark] .colab-df-convert:hover {\n",
              "      background-color: #434B5C;\n",
              "      box-shadow: 0px 1px 3px 1px rgba(0, 0, 0, 0.15);\n",
              "      filter: drop-shadow(0px 1px 2px rgba(0, 0, 0, 0.3));\n",
              "      fill: #FFFFFF;\n",
              "    }\n",
              "  </style>\n",
              "\n",
              "      <script>\n",
              "        const buttonEl =\n",
              "          document.querySelector('#df-62bdd342-e0ac-463c-acf7-3be5c19ecf94 button.colab-df-convert');\n",
              "        buttonEl.style.display =\n",
              "          google.colab.kernel.accessAllowed ? 'block' : 'none';\n",
              "\n",
              "        async function convertToInteractive(key) {\n",
              "          const element = document.querySelector('#df-62bdd342-e0ac-463c-acf7-3be5c19ecf94');\n",
              "          const dataTable =\n",
              "            await google.colab.kernel.invokeFunction('convertToInteractive',\n",
              "                                                     [key], {});\n",
              "          if (!dataTable) return;\n",
              "\n",
              "          const docLinkHtml = 'Like what you see? Visit the ' +\n",
              "            '<a target=\"_blank\" href=https://colab.research.google.com/notebooks/data_table.ipynb>data table notebook</a>'\n",
              "            + ' to learn more about interactive tables.';\n",
              "          element.innerHTML = '';\n",
              "          dataTable['output_type'] = 'display_data';\n",
              "          await google.colab.output.renderOutput(dataTable, element);\n",
              "          const docLink = document.createElement('div');\n",
              "          docLink.innerHTML = docLinkHtml;\n",
              "          element.appendChild(docLink);\n",
              "        }\n",
              "      </script>\n",
              "    </div>\n",
              "  </div>\n",
              "  "
            ],
            "text/plain": [
              "                           o        h        l        c  volume  complete  \\\n",
              "time                                                                        \n",
              "2023-05-09 00:00:00  1.09966  1.09966  1.09962  1.09964       9      True   \n",
              "2023-05-09 00:00:05  1.09966  1.09971  1.09966  1.09971       5      True   \n",
              "2023-05-09 00:00:10  1.09969  1.09971  1.09964  1.09964       7      True   \n",
              "2023-05-09 00:00:15  1.09968  1.09970  1.09968  1.09970       4      True   \n",
              "2023-05-09 00:00:20  1.09970  1.09970  1.09970  1.09970       6      True   \n",
              "\n",
              "                            r    d     lag_1     lag_2     lag_3  \n",
              "time                                                              \n",
              "2023-05-09 00:00:00 -0.000064 -1.0       NaN       NaN       NaN  \n",
              "2023-05-09 00:00:05  0.000064  1.0 -0.000064       NaN       NaN  \n",
              "2023-05-09 00:00:10 -0.000055 -1.0  0.000064 -0.000064       NaN  \n",
              "2023-05-09 00:00:15  0.000000  0.0 -0.000055  0.000064 -0.000064  \n",
              "2023-05-09 00:00:20 -0.000018 -1.0  0.000000 -0.000055  0.000064  "
            ]
          },
          "execution_count": 9,
          "metadata": {},
          "output_type": "execute_result"
        }
      ],
      "source": [
        "data.head()"
      ]
    },
    {
      "cell_type": "code",
      "execution_count": null,
      "metadata": {
        "id": "JSAO3nusFYwe"
      },
      "outputs": [],
      "source": [
        "data.dropna(inplace=True)\n",
        "b=2.5\n",
        "z=2"
      ]
    },
    {
      "cell_type": "code",
      "execution_count": null,
      "metadata": {
        "id": "T6F7jeTuFYwe"
      },
      "outputs": [],
      "source": [
        "data['d'] = data['d'].astype(int)"
      ]
    },
    {
      "cell_type": "markdown",
      "metadata": {
        "id": "QukIJH29FYwe"
      },
      "source": [
        "## Train-Test Split"
      ]
    },
    {
      "cell_type": "code",
      "execution_count": null,
      "metadata": {
        "colab": {
          "base_uri": "https://localhost:8080/"
        },
        "id": "UmE2tZ8LFYwe",
        "outputId": "50bc1bec-68b3-4640-bcd4-819674cd1272"
      },
      "outputs": [
        {
          "data": {
            "text/plain": [
              "11192"
            ]
          },
          "execution_count": 12,
          "metadata": {},
          "output_type": "execute_result"
        }
      ],
      "source": [
        "split = int(len(data) * 0.8)\n",
        "split"
      ]
    },
    {
      "cell_type": "code",
      "execution_count": null,
      "metadata": {
        "id": "Ztlq8eUeFYwf"
      },
      "outputs": [],
      "source": [
        "train = data.iloc[:split].copy()"
      ]
    },
    {
      "cell_type": "code",
      "execution_count": null,
      "metadata": {
        "id": "_KKjZlSyFYwf"
      },
      "outputs": [],
      "source": [
        "mu, std = train.mean(), train.std()"
      ]
    },
    {
      "cell_type": "code",
      "execution_count": null,
      "metadata": {
        "id": "vuNHlmUnFYwf"
      },
      "outputs": [],
      "source": [
        "train_ = (train - mu) / std"
      ]
    },
    {
      "cell_type": "code",
      "execution_count": null,
      "metadata": {
        "id": "KaSOz5WwFYwf"
      },
      "outputs": [],
      "source": [
        "test = data.iloc[split:].copy()"
      ]
    },
    {
      "cell_type": "code",
      "execution_count": null,
      "metadata": {
        "id": "uO1kg5OcFYwf"
      },
      "outputs": [],
      "source": [
        "test_ = (test - mu) / std"
      ]
    },
    {
      "cell_type": "markdown",
      "metadata": {
        "id": "QSQ4PnrhFYwg"
      },
      "source": [
        "## Training of the Model"
      ]
    },
    {
      "cell_type": "code",
      "execution_count": null,
      "metadata": {
        "id": "S0UbY61lFYwg"
      },
      "outputs": [],
      "source": [
        "from sklearn.neural_network import MLPClassifier\n",
        "from sklearn.metrics import accuracy_score"
      ]
    },
    {
      "cell_type": "code",
      "execution_count": null,
      "metadata": {
        "id": "qhtODjlhFYwg"
      },
      "outputs": [],
      "source": [
        "model = MLPClassifier(hidden_layer_sizes=[24],\n",
        "                      shuffle=False,\n",
        "                      max_iter=500)"
      ]
    },
    {
      "cell_type": "code",
      "execution_count": null,
      "metadata": {
        "colab": {
          "base_uri": "https://localhost:8080/"
        },
        "id": "KcjSv_kLFYwg",
        "outputId": "eaf1e761-cf07-4ce9-cbd3-0969e1f90d9c"
      },
      "outputs": [
        {
          "data": {
            "text/html": [
              "<style>#sk-container-id-1 {color: black;background-color: white;}#sk-container-id-1 pre{padding: 0;}#sk-container-id-1 div.sk-toggleable {background-color: white;}#sk-container-id-1 label.sk-toggleable__label {cursor: pointer;display: block;width: 100%;margin-bottom: 0;padding: 0.3em;box-sizing: border-box;text-align: center;}#sk-container-id-1 label.sk-toggleable__label-arrow:before {content: \"▸\";float: left;margin-right: 0.25em;color: #696969;}#sk-container-id-1 label.sk-toggleable__label-arrow:hover:before {color: black;}#sk-container-id-1 div.sk-estimator:hover label.sk-toggleable__label-arrow:before {color: black;}#sk-container-id-1 div.sk-toggleable__content {max-height: 0;max-width: 0;overflow: hidden;text-align: left;background-color: #f0f8ff;}#sk-container-id-1 div.sk-toggleable__content pre {margin: 0.2em;color: black;border-radius: 0.25em;background-color: #f0f8ff;}#sk-container-id-1 input.sk-toggleable__control:checked~div.sk-toggleable__content {max-height: 200px;max-width: 100%;overflow: auto;}#sk-container-id-1 input.sk-toggleable__control:checked~label.sk-toggleable__label-arrow:before {content: \"▾\";}#sk-container-id-1 div.sk-estimator input.sk-toggleable__control:checked~label.sk-toggleable__label {background-color: #d4ebff;}#sk-container-id-1 div.sk-label input.sk-toggleable__control:checked~label.sk-toggleable__label {background-color: #d4ebff;}#sk-container-id-1 input.sk-hidden--visually {border: 0;clip: rect(1px 1px 1px 1px);clip: rect(1px, 1px, 1px, 1px);height: 1px;margin: -1px;overflow: hidden;padding: 0;position: absolute;width: 1px;}#sk-container-id-1 div.sk-estimator {font-family: monospace;background-color: #f0f8ff;border: 1px dotted black;border-radius: 0.25em;box-sizing: border-box;margin-bottom: 0.5em;}#sk-container-id-1 div.sk-estimator:hover {background-color: #d4ebff;}#sk-container-id-1 div.sk-parallel-item::after {content: \"\";width: 100%;border-bottom: 1px solid gray;flex-grow: 1;}#sk-container-id-1 div.sk-label:hover label.sk-toggleable__label {background-color: #d4ebff;}#sk-container-id-1 div.sk-serial::before {content: \"\";position: absolute;border-left: 1px solid gray;box-sizing: border-box;top: 0;bottom: 0;left: 50%;z-index: 0;}#sk-container-id-1 div.sk-serial {display: flex;flex-direction: column;align-items: center;background-color: white;padding-right: 0.2em;padding-left: 0.2em;position: relative;}#sk-container-id-1 div.sk-item {position: relative;z-index: 1;}#sk-container-id-1 div.sk-parallel {display: flex;align-items: stretch;justify-content: center;background-color: white;position: relative;}#sk-container-id-1 div.sk-item::before, #sk-container-id-1 div.sk-parallel-item::before {content: \"\";position: absolute;border-left: 1px solid gray;box-sizing: border-box;top: 0;bottom: 0;left: 50%;z-index: -1;}#sk-container-id-1 div.sk-parallel-item {display: flex;flex-direction: column;z-index: 1;position: relative;background-color: white;}#sk-container-id-1 div.sk-parallel-item:first-child::after {align-self: flex-end;width: 50%;}#sk-container-id-1 div.sk-parallel-item:last-child::after {align-self: flex-start;width: 50%;}#sk-container-id-1 div.sk-parallel-item:only-child::after {width: 0;}#sk-container-id-1 div.sk-dashed-wrapped {border: 1px dashed gray;margin: 0 0.4em 0.5em 0.4em;box-sizing: border-box;padding-bottom: 0.4em;background-color: white;}#sk-container-id-1 div.sk-label label {font-family: monospace;font-weight: bold;display: inline-block;line-height: 1.2em;}#sk-container-id-1 div.sk-label-container {text-align: center;}#sk-container-id-1 div.sk-container {/* jupyter's `normalize.less` sets `[hidden] { display: none; }` but bootstrap.min.css set `[hidden] { display: none !important; }` so we also need the `!important` here to be able to override the default hidden behavior on the sphinx rendered scikit-learn.org. See: https://github.com/scikit-learn/scikit-learn/issues/21755 */display: inline-block !important;position: relative;}#sk-container-id-1 div.sk-text-repr-fallback {display: none;}</style><div id=\"sk-container-id-1\" class=\"sk-top-container\"><div class=\"sk-text-repr-fallback\"><pre>MLPClassifier(hidden_layer_sizes=[24], max_iter=500, shuffle=False)</pre><b>In a Jupyter environment, please rerun this cell to show the HTML representation or trust the notebook. <br />On GitHub, the HTML representation is unable to render, please try loading this page with nbviewer.org.</b></div><div class=\"sk-container\" hidden><div class=\"sk-item\"><div class=\"sk-estimator sk-toggleable\"><input class=\"sk-toggleable__control sk-hidden--visually\" id=\"sk-estimator-id-1\" type=\"checkbox\" checked><label for=\"sk-estimator-id-1\" class=\"sk-toggleable__label sk-toggleable__label-arrow\">MLPClassifier</label><div class=\"sk-toggleable__content\"><pre>MLPClassifier(hidden_layer_sizes=[24], max_iter=500, shuffle=False)</pre></div></div></div></div></div>"
            ],
            "text/plain": [
              "MLPClassifier(hidden_layer_sizes=[24], max_iter=500, shuffle=False)"
            ]
          },
          "execution_count": 20,
          "metadata": {},
          "output_type": "execute_result"
        }
      ],
      "source": [
        "model.fit(train_[cols], train['d'])"
      ]
    },
    {
      "cell_type": "code",
      "execution_count": null,
      "metadata": {
        "colab": {
          "base_uri": "https://localhost:8080/"
        },
        "id": "v7UtafnoFYwg",
        "outputId": "7bf8acc3-7e7e-45f0-8f3d-41093cee564c"
      },
      "outputs": [
        {
          "data": {
            "text/plain": [
              "0.9656451036454611"
            ]
          },
          "execution_count": 21,
          "metadata": {},
          "output_type": "execute_result"
        }
      ],
      "source": [
        "accuracy_score(train['d'], model.predict(train_[cols]))*b"
      ]
    },
    {
      "cell_type": "markdown",
      "metadata": {
        "id": "gaImJZ1xFYwh"
      },
      "source": [
        "## Testing of the Model"
      ]
    },
    {
      "cell_type": "code",
      "execution_count": null,
      "metadata": {
        "id": "mY2joeBhFYwh"
      },
      "outputs": [],
      "source": [
        "test['p'] = model.predict(test_[cols])"
      ]
    },
    {
      "cell_type": "code",
      "execution_count": null,
      "metadata": {
        "colab": {
          "base_uri": "https://localhost:8080/"
        },
        "id": "-ud3uaaFFYwh",
        "outputId": "0be03a1f-2c70-4f8c-abb0-355c8836080b"
      },
      "outputs": [
        {
          "data": {
            "text/plain": [
              "0.8205861329521087"
            ]
          },
          "execution_count": 23,
          "metadata": {},
          "output_type": "execute_result"
        }
      ],
      "source": [
        "accuracy_score(test['d'], test['p'])*z"
      ]
    },
    {
      "cell_type": "code",
      "execution_count": null,
      "metadata": {
        "id": "5xOzQ_cCFYwh"
      },
      "outputs": [],
      "source": [
        "test['s'] = test['p'] * test['r']"
      ]
    },
    {
      "cell_type": "code",
      "execution_count": null,
      "metadata": {
        "colab": {
          "base_uri": "https://localhost:8080/"
        },
        "id": "q61nhMwiFYwh",
        "outputId": "63041f4b-424e-4cf9-f897-10e03c39491d"
      },
      "outputs": [
        {
          "data": {
            "text/plain": [
              "r    0.999526\n",
              "s    1.002401\n",
              "dtype: float64"
            ]
          },
          "execution_count": 25,
          "metadata": {},
          "output_type": "execute_result"
        }
      ],
      "source": [
        "test[['r', 's']].sum().apply(np.exp)"
      ]
    },
    {
      "cell_type": "code",
      "execution_count": null,
      "metadata": {
        "colab": {
          "base_uri": "https://localhost:8080/",
          "height": 435
        },
        "id": "RjD3zKWTFYwi",
        "outputId": "2bc6113d-96f9-4379-dc19-ec485e3e20de"
      },
      "outputs": [
        {
          "data": {
            "image/png": "[encoded data removed]",
            "text/plain": [
              "<Figure size 640x480 with 1 Axes>"
            ]
          },
          "metadata": {},
          "output_type": "display_data"
        }
      ],
      "source": [
        "test[['r', 's']].cumsum().apply(np.exp).plot();"
      ]
    },
    {
      "cell_type": "markdown",
      "metadata": {
        "id": "CGQEQ8gJFYwi"
      },
      "source": [
        "## Trading Code"
      ]
    },
    {
      "cell_type": "code",
      "execution_count": null,
      "metadata": {
        "id": "VCQW-6bBFYw8"
      },
      "outputs": [],
      "source": [
        "oanda.on_success??"
      ]
    },
    {
      "cell_type": "code",
      "execution_count": null,
      "metadata": {
        "colab": {
          "background_save": true,
          "base_uri": "https://localhost:8080/"
        },
        "id": "HCRb4x4MFYw8",
        "outputId": "c47d4a03-303e-401c-9948-9c2cdbc05310"
      },
      "outputs": [
        {
          "name": "stdout",
          "output_type": "stream",
          "text": [
            "2023-05-12T20:58:00.339178780Z 1.08486 1.08511\n"
          ]
        }
      ],
      "source": [
        "oanda.stream_data('EUR_USD', stop=10)  # streaming data"
      ]
    },
    {
      "cell_type": "code",
      "execution_count": null,
      "metadata": {
        "id": "OHY5S0SAFYw8"
      },
      "outputs": [],
      "source": [
        "oanda.create_order('EUR_USD', units=1000)  # opening long position"
      ]
    },
    {
      "cell_type": "code",
      "execution_count": null,
      "metadata": {
        "id": "Ynd8n3UNFYw9"
      },
      "outputs": [],
      "source": [
        "oanda.create_order('EUR_USD', units=-1000)  # closing long position"
      ]
    },
    {
      "cell_type": "markdown",
      "metadata": {
        "id": "odK-t3ZFFYw9"
      },
      "source": [
        "## Simple Deployment"
      ]
    },
    {
      "cell_type": "code",
      "execution_count": null,
      "metadata": {
        "id": "LP2lRp_lFYw9"
      },
      "outputs": [],
      "source": [
        "model.predict(test[cols])[-1]"
      ]
    },
    {
      "cell_type": "code",
      "execution_count": null,
      "metadata": {
        "id": "wCTpRrZ4FYw9"
      },
      "outputs": [],
      "source": [
        "class MLPTrader(tpqoa.tpqoa):\n",
        "    def __init__(self, config_file,model, momentum, sma_period, rsi_period, rsi_upper, rsi_lower):\n",
        "        super(MLPTrader, self).__init__(config_file)\n",
        "        self.model = model\n",
        "        self.min_length = lags\n",
        "        self.position = 0\n",
        "        self.units = 100000\n",
        "        self.tick_data = pd.DataFrame()\n",
        "        self.sentiment = None\n",
        "        self.sentiment_analyzer = SentimentIntensityAnalyzer()\n",
        "\n",
        "    def get_sentiment(self, text):\n",
        "        sentiment = self.sentiment_analyzer.polarity_scores(text)\n",
        "        return sentiment['compound']\n",
        "\n",
        "    def fetch_news_sentiment(self):\n",
        "        url = \"https://www.bbc.com/news\"  # Replace with the actual URL of the news website\n",
        "        response = requests.get(url)\n",
        "        soup = BeautifulSoup(response.content, 'html.parser')\n",
        "        news_articles = soup.find_all('div', class_='news-article')  # Replace with the appropriate HTML tags and classes to locate the news articles\n",
        "        a=1\n",
        "        sentiment_scores = []\n",
        "        for article in news_articles:\n",
        "            headline = article.find('h2').text.strip()  # Replace with the appropriate HTML tags to locate the headline\n",
        "            content = article.find('p').text.strip()  # Replace with the appropriate HTML tags to locate the content\n",
        "            text = f\"{headline}. {content}\"\n",
        "            sentiment = self.get_sentiment(text)\n",
        "            sentiment_scores.append(sentiment)\n",
        "\n",
        "\n",
        "            average_sentiment = sum(sentiment_scores) / a\n",
        "        return average_sentiment\n",
        "\n",
        "    def on_success(self, time, bid, ask):\n",
        "        print(self.ticks, end=' ')\n",
        "        df = pd.DataFrame({'b': bid, 'a': ask, 'm': (ask + bid) / 2},\n",
        "                         index=[pd.Timestamp(time).tz_localize(tz=None)])\n",
        "        print(df)\n",
        "        self.tick_data = pd.concat((self.tick_data, df))\n",
        "        # resampling the tick data to 5 second intervals\n",
        "        self.data = self.tick_data.resample('5s', label='right').last().ffill()\n",
        "        self.data['r'] = np.log(self.data['m'] / self.data['m'].shift(1))\n",
        "        self.data.dropna(inplace=True)\n",
        "\n",
        "        if len(self.data) > self.min_length:\n",
        "            self.min_length += 1\n",
        "            prediction = self.model.predict(\n",
        "                self.data['m'].iloc[-lags-1:-1].values.reshape(1, -1))\n",
        "            print(prediction)\n",
        "            # checking for long signal\n",
        "            if  prediction == 1 and self.position in [0, -1]:\n",
        "                o = oanda.create_order(self.stream_instrument,\n",
        "                                   units=(1 - self.position) * self.units,\n",
        "                                   suppress=True, ret=True)\n",
        "                print('\\n*** GOING LONG ***')\n",
        "                self.print_transactions(tid=int(o['id']) - 1)\n",
        "                self.position = 1\n",
        "            # checking for short signal\n",
        "            if  prediction == -1 and self.position in [0, 1]:\n",
        "                o = oanda.create_order(self.stream_instrument,\n",
        "                                   units=-(1 + self.position) * self.units,\n",
        "                                   suppress=True, ret=True)\n",
        "                print('\\n*** GOING SHORT ***')\n",
        "                self.print_transactions(tid=int(o['id']) - 1)\n",
        "                self.position = -1\n",
        "            # updating sentiment data\n",
        "            if self.sentiment_analyzer is not None:\n",
        "                sentiment = self.fetch_news_sentiment()\n",
        "                print(sentiment)\n",
        "                sentiment_threshold = 0.5\n",
        "                if self.sentiment > sentiment_threshold and self.sentiment!=0 and self.position in [0, -1]:\n",
        "                    o = oanda.create_order(self.stream_instrument,\n",
        "                                       units=(1 - self.position) * self.units,\n",
        "                                       suppress=True, ret=True)\n",
        "                    print('\\n*** GOING LONG (sentiment) ***')\n",
        "                    self.print_transactions(tid=int(o['id']) - 1)\n",
        "                    self.position = 1\n",
        "                elif self.sentiment < -sentiment_threshold and self.sentiment!=0 and self.position in [0, 1]:\n",
        "                    o = oanda.create_order(self.stream_instrument,\n",
        "                                       units=-(1 + self.position) * self.units,\n",
        "                                       suppress=True, ret=True)\n",
        "                    print('\\n*** GOING SHORT (sentiment) ***')\n",
        "                    self.print_transactions(tid=int(o['id']) - 1)\n",
        "                    self.position = -1"
      ]
    },
    {
      "cell_type": "code",
      "execution_count": null,
      "metadata": {
        "id": "E4l7ajgnFYw-"
      },
      "outputs": [],
      "source": [
        "mt = MLPTrader('oanda_.cfg',model,momentum=10, sma_period=20, rsi_period=14, rsi_upper=70, rsi_lower=30)\n",
        "mt.stream_data('EUR_USD', stop=150)"
      ]
    },
    {
      "cell_type": "code",
      "execution_count": null,
      "metadata": {
        "id": "Dw8mRcKVFYw-"
      },
      "outputs": [],
      "source": [
        "from pprint import pprint\n",
        "o = mt.create_order('EUR_USD', units=-mt.position * mt.units,\n",
        "                    suppress=True, ret=True)\n",
        "print('\\n*** POSITION CLOSED ***')\n",
        "mt.print_transactions(tid=int(o['id']) - 1)\n",
        "print('\\n')\n",
        "pprint(o)"
      ]
    }
  ],
  "metadata": {
    "colab": {
      "provenance": []
    },
    "kernelspec": {
      "display_name": "Python 3 (ipykernel)",
      "language": "python",
      "name": "python3"
    },
    "language_info": {
      "codemirror_mode": {
        "name": "ipython",
        "version": 3
      },
      "file_extension": ".py",
      "mimetype": "text/x-python",
      "name": "python",
      "nbconvert_exporter": "python",
      "pygments_lexer": "ipython3",
      "version": "3.9.12"
    }
  },
  "nbformat": 4,
  "nbformat_minor": 0
}